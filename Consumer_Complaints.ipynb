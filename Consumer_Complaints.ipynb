{
 "cells": [
  {
   "cell_type": "markdown",
   "metadata": {
    "colab_type": "text",
    "id": "P41ZvAWjzNDs"
   },
   "source": [
    "# SUPERVISED LEARNING\n"
   ]
  },
  {
   "cell_type": "code",
   "execution_count": 0,
   "metadata": {
    "colab": {},
    "colab_type": "code",
    "id": "58h5qpgrzND4"
   },
   "outputs": [],
   "source": [
    "import numpy as np \n",
    "import pandas as pd\n",
    "\n",
    "import math \n",
    "from sklearn.model_selection import train_test_split\n",
    "from sklearn.model_selection import KFold\n",
    "%matplotlib inline\n",
    "import os\n",
    "from sklearn.linear_model import LogisticRegression\n",
    "from sklearn.metrics import roc_auc_score"
   ]
  },
  {
   "cell_type": "code",
   "execution_count": 3,
   "metadata": {
    "colab": {
     "base_uri": "https://localhost:8080/",
     "height": 128
    },
    "colab_type": "code",
    "id": "d5VVkcCOzdhG",
    "outputId": "6d16869a-a842-45c7-baa1-21f1890d5e6a"
   },
   "outputs": [
    {
     "name": "stdout",
     "output_type": "stream",
     "text": [
      "Go to this URL in a browser: https://accounts.google.com/o/oauth2/auth?client_id=947318989803-6bn6qk8qdgf4n4g3pfee6491hc0brc4i.apps.googleusercontent.com&redirect_uri=urn%3aietf%3awg%3aoauth%3a2.0%3aoob&response_type=code&scope=email%20https%3a%2f%2fwww.googleapis.com%2fauth%2fdocs.test%20https%3a%2f%2fwww.googleapis.com%2fauth%2fdrive%20https%3a%2f%2fwww.googleapis.com%2fauth%2fdrive.photos.readonly%20https%3a%2f%2fwww.googleapis.com%2fauth%2fpeopleapi.readonly\n",
      "\n",
      "Enter your authorization code:\n",
      "··········\n",
      "Mounted at /content/drive\n"
     ]
    }
   ],
   "source": [
    "from google.colab import drive\n",
    "drive.mount('/content/drive')"
   ]
  },
  {
   "cell_type": "code",
   "execution_count": 3,
   "metadata": {
    "colab": {
     "base_uri": "https://localhost:8080/",
     "height": 90
    },
    "colab_type": "code",
    "id": "abRtEi360KE-",
    "outputId": "544f789c-2fb9-49fe-e881-b8528f6b9611"
   },
   "outputs": [
    {
     "data": {
      "text/plain": [
       "['.ipynb_checkpoints',\n",
       " 'Consumer_Complaints_test_share.csv',\n",
       " 'Consumer_Complaints_train.csv',\n",
       " 'Consumer_Complaints.ipynb']"
      ]
     },
     "execution_count": 3,
     "metadata": {
      "tags": []
     },
     "output_type": "execute_result"
    }
   ],
   "source": [
    "os.listdir('/content/drive/My Drive/Python new/PYTHON/PROJECT/PROJECT 1/')"
   ]
  },
  {
   "cell_type": "code",
   "execution_count": 0,
   "metadata": {
    "colab": {},
    "colab_type": "code",
    "id": "KcDk8qyUzNEN"
   },
   "outputs": [],
   "source": [
    "cc_train=pd.read_csv(r'/content/drive/My Drive/Python new/PYTHON/PROJECT/PROJECT 1/Consumer_Complaints_train.csv')\n",
    "\n",
    "cc_test=pd.read_csv(r'/content/drive/My Drive/Python new/PYTHON/PROJECT/PROJECT 1/Consumer_Complaints_test_share.csv')"
   ]
  },
  {
   "cell_type": "code",
   "execution_count": 0,
   "metadata": {
    "colab": {},
    "colab_type": "code",
    "id": "FQLuEfEjzNEn"
   },
   "outputs": [],
   "source": [
    "cc_test[\"data\"]='test'"
   ]
  },
  {
   "cell_type": "code",
   "execution_count": 6,
   "metadata": {
    "colab": {
     "base_uri": "https://localhost:8080/",
     "height": 35
    },
    "colab_type": "code",
    "id": "5v42AlOGzNE5",
    "outputId": "8e40cbd8-d64d-4214-fec5-ab1e4f7cdba5"
   },
   "outputs": [
    {
     "data": {
      "text/plain": [
       "(119606, 18)"
      ]
     },
     "execution_count": 6,
     "metadata": {
      "tags": []
     },
     "output_type": "execute_result"
    }
   ],
   "source": [
    "cc_test.shape"
   ]
  },
  {
   "cell_type": "markdown",
   "metadata": {
    "colab_type": "text",
    "id": "9KNz-BpwzNFP"
   },
   "source": [
    "Filling target variable of Test datasets with None for neccessary preprocessing"
   ]
  },
  {
   "cell_type": "code",
   "execution_count": 0,
   "metadata": {
    "colab": {},
    "colab_type": "code",
    "id": "t-1lo8AFzNFU"
   },
   "outputs": [],
   "source": [
    "cc_test[\"Consumer disputed?\"]=None"
   ]
  },
  {
   "cell_type": "code",
   "execution_count": 0,
   "metadata": {
    "colab": {},
    "colab_type": "code",
    "id": "8Ur37ZAfzNFf"
   },
   "outputs": [],
   "source": [
    "cc_train['data']='train'"
   ]
  },
  {
   "cell_type": "code",
   "execution_count": 9,
   "metadata": {
    "colab": {
     "base_uri": "https://localhost:8080/",
     "height": 35
    },
    "colab_type": "code",
    "id": "Qg0NmhtQzNFm",
    "outputId": "0e738364-3705-4b68-f2ba-edd9909f45f4"
   },
   "outputs": [
    {
     "data": {
      "text/plain": [
       "(478421, 19)"
      ]
     },
     "execution_count": 9,
     "metadata": {
      "tags": []
     },
     "output_type": "execute_result"
    }
   ],
   "source": [
    "cc_train.shape"
   ]
  },
  {
   "cell_type": "markdown",
   "metadata": {
    "colab_type": "text",
    "id": "Sjn7pUUYzNFv"
   },
   "source": [
    "Combining Train and Test data"
   ]
  },
  {
   "cell_type": "code",
   "execution_count": 10,
   "metadata": {
    "colab": {
     "base_uri": "https://localhost:8080/",
     "height": 162
    },
    "colab_type": "code",
    "id": "AzSxJTXCzNFz",
    "outputId": "34734d75-ffba-4ed7-b53f-269d127c4245"
   },
   "outputs": [
    {
     "name": "stderr",
     "output_type": "stream",
     "text": [
      "/usr/local/lib/python3.6/dist-packages/ipykernel_launcher.py:1: FutureWarning: Sorting because non-concatenation axis is not aligned. A future version\n",
      "of pandas will change to not sort by default.\n",
      "\n",
      "To accept the future behavior, pass 'sort=False'.\n",
      "\n",
      "To retain the current behavior and silence the warning, pass 'sort=True'.\n",
      "\n",
      "  \"\"\"Entry point for launching an IPython kernel.\n"
     ]
    }
   ],
   "source": [
    "cc=pd.concat([cc_train,cc_test],0,ignore_index=True)"
   ]
  },
  {
   "cell_type": "code",
   "execution_count": 11,
   "metadata": {
    "colab": {
     "base_uri": "https://localhost:8080/",
     "height": 35
    },
    "colab_type": "code",
    "id": "C3M83P8tzNF9",
    "outputId": "b76d4457-d74d-485c-c59e-725d335c9222"
   },
   "outputs": [
    {
     "data": {
      "text/plain": [
       "(598027, 19)"
      ]
     },
     "execution_count": 11,
     "metadata": {
      "tags": []
     },
     "output_type": "execute_result"
    }
   ],
   "source": [
    "cc.shape"
   ]
  },
  {
   "cell_type": "code",
   "execution_count": 12,
   "metadata": {
    "colab": {
     "base_uri": "https://localhost:8080/",
     "height": 72
    },
    "colab_type": "code",
    "id": "OSOAzz3czNGN",
    "outputId": "756f22e3-3393-4159-e46a-0ecd8d6c514a"
   },
   "outputs": [
    {
     "data": {
      "text/plain": [
       "No     376990\n",
       "Yes    101431\n",
       "Name: Consumer disputed?, dtype: int64"
      ]
     },
     "execution_count": 12,
     "metadata": {
      "tags": []
     },
     "output_type": "execute_result"
    }
   ],
   "source": [
    "cc[\"Consumer disputed?\"].value_counts()"
   ]
  },
  {
   "cell_type": "markdown",
   "metadata": {
    "colab_type": "text",
    "id": "pZHmCtidzNGa"
   },
   "source": [
    "Checking features "
   ]
  },
  {
   "cell_type": "code",
   "execution_count": 13,
   "metadata": {
    "colab": {
     "base_uri": "https://localhost:8080/",
     "height": 144
    },
    "colab_type": "code",
    "id": "Evcj30bTzNGe",
    "outputId": "5b783505-7113-44d4-be21-b78608ac0acd"
   },
   "outputs": [
    {
     "data": {
      "text/plain": [
       "Index(['Company', 'Company public response', 'Company response to consumer',\n",
       "       'Complaint ID', 'Consumer complaint narrative',\n",
       "       'Consumer consent provided?', 'Consumer disputed?', 'Date received',\n",
       "       'Date sent to company', 'Issue', 'Product', 'State', 'Sub-issue',\n",
       "       'Sub-product', 'Submitted via', 'Tags', 'Timely response?', 'ZIP code',\n",
       "       'data'],\n",
       "      dtype='object')"
      ]
     },
     "execution_count": 13,
     "metadata": {
      "tags": []
     },
     "output_type": "execute_result"
    }
   ],
   "source": [
    "cc.columns"
   ]
  },
  {
   "cell_type": "code",
   "execution_count": 14,
   "metadata": {
    "colab": {
     "base_uri": "https://localhost:8080/",
     "height": 380
    },
    "colab_type": "code",
    "id": "oEvczXBHzNGp",
    "outputId": "c144572b-71d2-4711-cdbd-65caf0d3d6b8"
   },
   "outputs": [
    {
     "data": {
      "text/plain": [
       "Company                              0\n",
       "Company public response         484859\n",
       "Company response to consumer         0\n",
       "Complaint ID                         0\n",
       "Consumer complaint narrative    504376\n",
       "Consumer consent provided?      428676\n",
       "Consumer disputed?              119606\n",
       "Date received                        0\n",
       "Date sent to company                 0\n",
       "Issue                                0\n",
       "Product                              0\n",
       "State                             4764\n",
       "Sub-issue                       365685\n",
       "Sub-product                     173225\n",
       "Submitted via                        1\n",
       "Tags                            513950\n",
       "Timely response?                     0\n",
       "ZIP code                          4774\n",
       "data                                 0\n",
       "dtype: int64"
      ]
     },
     "execution_count": 14,
     "metadata": {
      "tags": []
     },
     "output_type": "execute_result"
    }
   ],
   "source": [
    "cc.isna().sum()"
   ]
  },
  {
   "cell_type": "code",
   "execution_count": 15,
   "metadata": {
    "colab": {
     "base_uri": "https://localhost:8080/",
     "height": 380
    },
    "colab_type": "code",
    "id": "kxfhqbPDzNGw",
    "outputId": "5a59033b-2064-4b87-f423-c77e5dbca7a1"
   },
   "outputs": [
    {
     "data": {
      "text/plain": [
       "Company                         object\n",
       "Company public response         object\n",
       "Company response to consumer    object\n",
       "Complaint ID                     int64\n",
       "Consumer complaint narrative    object\n",
       "Consumer consent provided?      object\n",
       "Consumer disputed?              object\n",
       "Date received                   object\n",
       "Date sent to company            object\n",
       "Issue                           object\n",
       "Product                         object\n",
       "State                           object\n",
       "Sub-issue                       object\n",
       "Sub-product                     object\n",
       "Submitted via                   object\n",
       "Tags                            object\n",
       "Timely response?                object\n",
       "ZIP code                        object\n",
       "data                            object\n",
       "dtype: object"
      ]
     },
     "execution_count": 15,
     "metadata": {
      "tags": []
     },
     "output_type": "execute_result"
    }
   ],
   "source": [
    "cc.dtypes"
   ]
  },
  {
   "cell_type": "code",
   "execution_count": 0,
   "metadata": {
    "colab": {},
    "colab_type": "code",
    "id": "b6BtQhyazNHH"
   },
   "outputs": [],
   "source": [
    "for col in ['Sub-product','Sub-issue','Consumer complaint narrative',\n",
    "            'Company public response','Tags','Consumer consent provided?']:\n",
    "    varname=col.replace('-','_').replace('?','').replace(\" \",'_')+'_isNan'\n",
    "    cc[varname]=np.where(pd.isnull(cc[col]),1,0)\n",
    "    cc.drop([col],1,inplace=True)\n",
    "    "
   ]
  },
  {
   "cell_type": "code",
   "execution_count": 0,
   "metadata": {
    "colab": {},
    "colab_type": "code",
    "id": "bfAopxs5zNHN"
   },
   "outputs": [],
   "source": [
    "cc['Consumer disputed?']= np.where(cc['Consumer disputed?']=='Yes',1,0)\n",
    "cc['Timely response?']=np.where(cc['Timely response?']=='Yes',1,0)"
   ]
  },
  {
   "cell_type": "code",
   "execution_count": 18,
   "metadata": {
    "colab": {
     "base_uri": "https://localhost:8080/",
     "height": 162
    },
    "colab_type": "code",
    "id": "nNtvWgRPzNHS",
    "outputId": "1b30e80f-ed96-4708-bb7e-810b708dfaa8"
   },
   "outputs": [
    {
     "data": {
      "text/plain": [
       "Closed with explanation            442756\n",
       "Closed with non-monetary relief     76861\n",
       "Closed with monetary relief         41188\n",
       "Closed without relief               17769\n",
       "Closed                              14227\n",
       "Closed with relief                   5224\n",
       "Untimely response                       2\n",
       "Name: Company response to consumer, dtype: int64"
      ]
     },
     "execution_count": 18,
     "metadata": {
      "tags": []
     },
     "output_type": "execute_result"
    }
   ],
   "source": [
    "cc['Company response to consumer'].value_counts()"
   ]
  },
  {
   "cell_type": "code",
   "execution_count": 19,
   "metadata": {
    "colab": {
     "base_uri": "https://localhost:8080/",
     "height": 181
    },
    "colab_type": "code",
    "id": "AAaPrgP9zNHa",
    "outputId": "b433f4a5-69f0-4242-cf3b-3ffc4e84505a"
   },
   "outputs": [
    {
     "data": {
      "text/plain": [
       "Company response to consumer\n",
       "Closed                             0.179518\n",
       "Closed with explanation            0.186990\n",
       "Closed with monetary relief        0.090633\n",
       "Closed with non-monetary relief    0.103564\n",
       "Closed with relief                 0.107198\n",
       "Closed without relief              0.215656\n",
       "Untimely response                  0.500000\n",
       "Name: Consumer disputed?, dtype: float64"
      ]
     },
     "execution_count": 19,
     "metadata": {
      "tags": []
     },
     "output_type": "execute_result"
    }
   ],
   "source": [
    "cc.groupby('Company response to consumer')['Consumer disputed?'].mean()"
   ]
  },
  {
   "cell_type": "markdown",
   "metadata": {
    "colab_type": "text",
    "id": "OOMNcmdGzNHh"
   },
   "source": [
    "Creating Dummies"
   ]
  },
  {
   "cell_type": "code",
   "execution_count": 0,
   "metadata": {
    "colab": {},
    "colab_type": "code",
    "id": "BWyMeEsnzNHi"
   },
   "outputs": [],
   "source": [
    "lp_dummies=pd.get_dummies(cc['Company response to consumer'])"
   ]
  },
  {
   "cell_type": "code",
   "execution_count": 0,
   "metadata": {
    "colab": {},
    "colab_type": "code",
    "id": "TtcwuII8zNHo"
   },
   "outputs": [],
   "source": [
    "cc=pd.concat([lp_dummies,cc],1)"
   ]
  },
  {
   "cell_type": "code",
   "execution_count": 0,
   "metadata": {
    "colab": {},
    "colab_type": "code",
    "id": "eDyqkkibzNHu"
   },
   "outputs": [],
   "source": [
    "cc=cc.drop(['Company response to consumer'],1)"
   ]
  },
  {
   "cell_type": "code",
   "execution_count": 23,
   "metadata": {
    "colab": {
     "base_uri": "https://localhost:8080/",
     "height": 826
    },
    "colab_type": "code",
    "id": "dEv2rWSIzNH1",
    "outputId": "f5f794ff-52a6-481a-e818-320a5b23be32"
   },
   "outputs": [
    {
     "data": {
      "text/html": [
       "<div>\n",
       "<style scoped>\n",
       "    .dataframe tbody tr th:only-of-type {\n",
       "        vertical-align: middle;\n",
       "    }\n",
       "\n",
       "    .dataframe tbody tr th {\n",
       "        vertical-align: top;\n",
       "    }\n",
       "\n",
       "    .dataframe thead th {\n",
       "        text-align: right;\n",
       "    }\n",
       "</style>\n",
       "<table border=\"1\" class=\"dataframe\">\n",
       "  <thead>\n",
       "    <tr style=\"text-align: right;\">\n",
       "      <th></th>\n",
       "      <th>Closed</th>\n",
       "      <th>Closed with explanation</th>\n",
       "      <th>Closed with monetary relief</th>\n",
       "      <th>Closed with non-monetary relief</th>\n",
       "      <th>Closed with relief</th>\n",
       "      <th>Closed without relief</th>\n",
       "      <th>Untimely response</th>\n",
       "      <th>Company</th>\n",
       "      <th>Complaint ID</th>\n",
       "      <th>Consumer disputed?</th>\n",
       "      <th>Date received</th>\n",
       "      <th>Date sent to company</th>\n",
       "      <th>Issue</th>\n",
       "      <th>Product</th>\n",
       "      <th>State</th>\n",
       "      <th>Submitted via</th>\n",
       "      <th>Timely response?</th>\n",
       "      <th>ZIP code</th>\n",
       "      <th>data</th>\n",
       "      <th>Sub_product_isNan</th>\n",
       "      <th>Sub_issue_isNan</th>\n",
       "      <th>Consumer_complaint_narrative_isNan</th>\n",
       "      <th>Company_public_response_isNan</th>\n",
       "      <th>Tags_isNan</th>\n",
       "      <th>Consumer_consent_provided_isNan</th>\n",
       "    </tr>\n",
       "  </thead>\n",
       "  <tbody>\n",
       "    <tr>\n",
       "      <th>0</th>\n",
       "      <td>0</td>\n",
       "      <td>1</td>\n",
       "      <td>0</td>\n",
       "      <td>0</td>\n",
       "      <td>0</td>\n",
       "      <td>0</td>\n",
       "      <td>0</td>\n",
       "      <td>Wells Fargo &amp; Company</td>\n",
       "      <td>856103</td>\n",
       "      <td>0</td>\n",
       "      <td>2014-05-15</td>\n",
       "      <td>2014-05-16</td>\n",
       "      <td>Billing statement</td>\n",
       "      <td>Credit card</td>\n",
       "      <td>MI</td>\n",
       "      <td>Web</td>\n",
       "      <td>1</td>\n",
       "      <td>48342</td>\n",
       "      <td>train</td>\n",
       "      <td>1</td>\n",
       "      <td>1</td>\n",
       "      <td>1</td>\n",
       "      <td>1</td>\n",
       "      <td>0</td>\n",
       "      <td>1</td>\n",
       "    </tr>\n",
       "    <tr>\n",
       "      <th>1</th>\n",
       "      <td>1</td>\n",
       "      <td>0</td>\n",
       "      <td>0</td>\n",
       "      <td>0</td>\n",
       "      <td>0</td>\n",
       "      <td>0</td>\n",
       "      <td>0</td>\n",
       "      <td>Santander Bank US</td>\n",
       "      <td>1034666</td>\n",
       "      <td>0</td>\n",
       "      <td>2014-09-18</td>\n",
       "      <td>2014-09-24</td>\n",
       "      <td>Making/receiving payments, sending money</td>\n",
       "      <td>Bank account or service</td>\n",
       "      <td>PA</td>\n",
       "      <td>Referral</td>\n",
       "      <td>1</td>\n",
       "      <td>18042</td>\n",
       "      <td>train</td>\n",
       "      <td>0</td>\n",
       "      <td>1</td>\n",
       "      <td>1</td>\n",
       "      <td>1</td>\n",
       "      <td>1</td>\n",
       "      <td>1</td>\n",
       "    </tr>\n",
       "    <tr>\n",
       "      <th>2</th>\n",
       "      <td>0</td>\n",
       "      <td>0</td>\n",
       "      <td>0</td>\n",
       "      <td>1</td>\n",
       "      <td>0</td>\n",
       "      <td>0</td>\n",
       "      <td>0</td>\n",
       "      <td>Equifax</td>\n",
       "      <td>756363</td>\n",
       "      <td>0</td>\n",
       "      <td>2014-03-13</td>\n",
       "      <td>2014-04-03</td>\n",
       "      <td>Incorrect information on credit report</td>\n",
       "      <td>Credit reporting</td>\n",
       "      <td>CA</td>\n",
       "      <td>Referral</td>\n",
       "      <td>1</td>\n",
       "      <td>92427</td>\n",
       "      <td>train</td>\n",
       "      <td>1</td>\n",
       "      <td>0</td>\n",
       "      <td>1</td>\n",
       "      <td>1</td>\n",
       "      <td>1</td>\n",
       "      <td>1</td>\n",
       "    </tr>\n",
       "    <tr>\n",
       "      <th>3</th>\n",
       "      <td>0</td>\n",
       "      <td>0</td>\n",
       "      <td>1</td>\n",
       "      <td>0</td>\n",
       "      <td>0</td>\n",
       "      <td>0</td>\n",
       "      <td>0</td>\n",
       "      <td>U.S. Bancorp</td>\n",
       "      <td>1474177</td>\n",
       "      <td>0</td>\n",
       "      <td>2015-07-17</td>\n",
       "      <td>2015-07-17</td>\n",
       "      <td>Billing statement</td>\n",
       "      <td>Credit card</td>\n",
       "      <td>GA</td>\n",
       "      <td>Web</td>\n",
       "      <td>1</td>\n",
       "      <td>305XX</td>\n",
       "      <td>train</td>\n",
       "      <td>1</td>\n",
       "      <td>1</td>\n",
       "      <td>0</td>\n",
       "      <td>0</td>\n",
       "      <td>0</td>\n",
       "      <td>0</td>\n",
       "    </tr>\n",
       "    <tr>\n",
       "      <th>4</th>\n",
       "      <td>0</td>\n",
       "      <td>1</td>\n",
       "      <td>0</td>\n",
       "      <td>0</td>\n",
       "      <td>0</td>\n",
       "      <td>0</td>\n",
       "      <td>0</td>\n",
       "      <td>Bank of America</td>\n",
       "      <td>1132572</td>\n",
       "      <td>0</td>\n",
       "      <td>2014-11-20</td>\n",
       "      <td>2014-11-28</td>\n",
       "      <td>Transaction issue</td>\n",
       "      <td>Credit card</td>\n",
       "      <td>MA</td>\n",
       "      <td>Web</td>\n",
       "      <td>1</td>\n",
       "      <td>02127</td>\n",
       "      <td>train</td>\n",
       "      <td>1</td>\n",
       "      <td>1</td>\n",
       "      <td>1</td>\n",
       "      <td>1</td>\n",
       "      <td>1</td>\n",
       "      <td>1</td>\n",
       "    </tr>\n",
       "    <tr>\n",
       "      <th>...</th>\n",
       "      <td>...</td>\n",
       "      <td>...</td>\n",
       "      <td>...</td>\n",
       "      <td>...</td>\n",
       "      <td>...</td>\n",
       "      <td>...</td>\n",
       "      <td>...</td>\n",
       "      <td>...</td>\n",
       "      <td>...</td>\n",
       "      <td>...</td>\n",
       "      <td>...</td>\n",
       "      <td>...</td>\n",
       "      <td>...</td>\n",
       "      <td>...</td>\n",
       "      <td>...</td>\n",
       "      <td>...</td>\n",
       "      <td>...</td>\n",
       "      <td>...</td>\n",
       "      <td>...</td>\n",
       "      <td>...</td>\n",
       "      <td>...</td>\n",
       "      <td>...</td>\n",
       "      <td>...</td>\n",
       "      <td>...</td>\n",
       "      <td>...</td>\n",
       "    </tr>\n",
       "    <tr>\n",
       "      <th>598022</th>\n",
       "      <td>0</td>\n",
       "      <td>0</td>\n",
       "      <td>1</td>\n",
       "      <td>0</td>\n",
       "      <td>0</td>\n",
       "      <td>0</td>\n",
       "      <td>0</td>\n",
       "      <td>JPMorgan Chase &amp; Co.</td>\n",
       "      <td>153482</td>\n",
       "      <td>0</td>\n",
       "      <td>2012-09-15</td>\n",
       "      <td>2012-09-21</td>\n",
       "      <td>Closing/Cancelling account</td>\n",
       "      <td>Credit card</td>\n",
       "      <td>IL</td>\n",
       "      <td>Web</td>\n",
       "      <td>1</td>\n",
       "      <td>60538</td>\n",
       "      <td>test</td>\n",
       "      <td>1</td>\n",
       "      <td>1</td>\n",
       "      <td>1</td>\n",
       "      <td>1</td>\n",
       "      <td>1</td>\n",
       "      <td>1</td>\n",
       "    </tr>\n",
       "    <tr>\n",
       "      <th>598023</th>\n",
       "      <td>0</td>\n",
       "      <td>1</td>\n",
       "      <td>0</td>\n",
       "      <td>0</td>\n",
       "      <td>0</td>\n",
       "      <td>0</td>\n",
       "      <td>0</td>\n",
       "      <td>Experian</td>\n",
       "      <td>2023523</td>\n",
       "      <td>0</td>\n",
       "      <td>2016-07-21</td>\n",
       "      <td>2016-07-21</td>\n",
       "      <td>Credit reporting company's investigation</td>\n",
       "      <td>Credit reporting</td>\n",
       "      <td>CA</td>\n",
       "      <td>Web</td>\n",
       "      <td>1</td>\n",
       "      <td>956XX</td>\n",
       "      <td>test</td>\n",
       "      <td>1</td>\n",
       "      <td>0</td>\n",
       "      <td>0</td>\n",
       "      <td>0</td>\n",
       "      <td>1</td>\n",
       "      <td>0</td>\n",
       "    </tr>\n",
       "    <tr>\n",
       "      <th>598024</th>\n",
       "      <td>0</td>\n",
       "      <td>1</td>\n",
       "      <td>0</td>\n",
       "      <td>0</td>\n",
       "      <td>0</td>\n",
       "      <td>0</td>\n",
       "      <td>0</td>\n",
       "      <td>FAIR COLLECTIONS &amp; OUTSOURCING, INC.</td>\n",
       "      <td>1413678</td>\n",
       "      <td>0</td>\n",
       "      <td>2015-06-09</td>\n",
       "      <td>2015-06-12</td>\n",
       "      <td>Disclosure verification of debt</td>\n",
       "      <td>Debt collection</td>\n",
       "      <td>CA</td>\n",
       "      <td>Phone</td>\n",
       "      <td>1</td>\n",
       "      <td>90803</td>\n",
       "      <td>test</td>\n",
       "      <td>0</td>\n",
       "      <td>0</td>\n",
       "      <td>1</td>\n",
       "      <td>0</td>\n",
       "      <td>0</td>\n",
       "      <td>1</td>\n",
       "    </tr>\n",
       "    <tr>\n",
       "      <th>598025</th>\n",
       "      <td>0</td>\n",
       "      <td>1</td>\n",
       "      <td>0</td>\n",
       "      <td>0</td>\n",
       "      <td>0</td>\n",
       "      <td>0</td>\n",
       "      <td>0</td>\n",
       "      <td>Encore Capital Group</td>\n",
       "      <td>732458</td>\n",
       "      <td>0</td>\n",
       "      <td>2014-02-26</td>\n",
       "      <td>2014-02-27</td>\n",
       "      <td>Disclosure verification of debt</td>\n",
       "      <td>Debt collection</td>\n",
       "      <td>PA</td>\n",
       "      <td>Phone</td>\n",
       "      <td>1</td>\n",
       "      <td>17764</td>\n",
       "      <td>test</td>\n",
       "      <td>0</td>\n",
       "      <td>0</td>\n",
       "      <td>1</td>\n",
       "      <td>1</td>\n",
       "      <td>1</td>\n",
       "      <td>1</td>\n",
       "    </tr>\n",
       "    <tr>\n",
       "      <th>598026</th>\n",
       "      <td>0</td>\n",
       "      <td>1</td>\n",
       "      <td>0</td>\n",
       "      <td>0</td>\n",
       "      <td>0</td>\n",
       "      <td>0</td>\n",
       "      <td>0</td>\n",
       "      <td>AllianceOne Recievables Management</td>\n",
       "      <td>1235226</td>\n",
       "      <td>0</td>\n",
       "      <td>2015-02-11</td>\n",
       "      <td>2015-02-11</td>\n",
       "      <td>Cont'd attempts collect debt not owed</td>\n",
       "      <td>Debt collection</td>\n",
       "      <td>CA</td>\n",
       "      <td>Web</td>\n",
       "      <td>1</td>\n",
       "      <td>92103</td>\n",
       "      <td>test</td>\n",
       "      <td>0</td>\n",
       "      <td>0</td>\n",
       "      <td>1</td>\n",
       "      <td>1</td>\n",
       "      <td>1</td>\n",
       "      <td>1</td>\n",
       "    </tr>\n",
       "  </tbody>\n",
       "</table>\n",
       "<p>598027 rows × 25 columns</p>\n",
       "</div>"
      ],
      "text/plain": [
       "        Closed  ...  Consumer_consent_provided_isNan\n",
       "0            0  ...                                1\n",
       "1            1  ...                                1\n",
       "2            0  ...                                1\n",
       "3            0  ...                                0\n",
       "4            0  ...                                1\n",
       "...        ...  ...                              ...\n",
       "598022       0  ...                                1\n",
       "598023       0  ...                                0\n",
       "598024       0  ...                                1\n",
       "598025       0  ...                                1\n",
       "598026       0  ...                                1\n",
       "\n",
       "[598027 rows x 25 columns]"
      ]
     },
     "execution_count": 23,
     "metadata": {
      "tags": []
     },
     "output_type": "execute_result"
    }
   ],
   "source": [
    "cc"
   ]
  },
  {
   "cell_type": "code",
   "execution_count": 24,
   "metadata": {
    "colab": {
     "base_uri": "https://localhost:8080/",
     "height": 253
    },
    "colab_type": "code",
    "id": "QI5XV_0DzNH7",
    "outputId": "87df7cee-8254-45f7-b42a-d6a16685dd83"
   },
   "outputs": [
    {
     "data": {
      "text/plain": [
       "Mortgage                   195079\n",
       "Debt collection            108047\n",
       "Credit reporting           101612\n",
       "Credit card                 71613\n",
       "Bank account or service     68094\n",
       "Consumer Loan               23263\n",
       "Student loan                18635\n",
       "Money transfers              4176\n",
       "Payday loan                  4048\n",
       "Prepaid card                 2813\n",
       "Other financial service       635\n",
       "Virtual currency               12\n",
       "Name: Product, dtype: int64"
      ]
     },
     "execution_count": 24,
     "metadata": {
      "tags": []
     },
     "output_type": "execute_result"
    }
   ],
   "source": [
    "cc['Product'].value_counts()"
   ]
  },
  {
   "cell_type": "code",
   "execution_count": 25,
   "metadata": {
    "colab": {
     "base_uri": "https://localhost:8080/",
     "height": 271
    },
    "colab_type": "code",
    "id": "-USN5EWtzNIB",
    "outputId": "7333f940-f60a-4476-dfb8-963f29fc096f"
   },
   "outputs": [
    {
     "data": {
      "text/plain": [
       "Product\n",
       "Bank account or service    0.162540\n",
       "Consumer Loan              0.189528\n",
       "Credit card                0.174116\n",
       "Credit reporting           0.141538\n",
       "Debt collection            0.157154\n",
       "Money transfers            0.119013\n",
       "Mortgage                   0.192045\n",
       "Other financial service    0.184252\n",
       "Payday loan                0.136364\n",
       "Prepaid card               0.119445\n",
       "Student loan               0.169251\n",
       "Virtual currency           0.250000\n",
       "Name: Consumer disputed?, dtype: float64"
      ]
     },
     "execution_count": 25,
     "metadata": {
      "tags": []
     },
     "output_type": "execute_result"
    }
   ],
   "source": [
    "cc.groupby('Product')['Consumer disputed?'].mean()"
   ]
  },
  {
   "cell_type": "code",
   "execution_count": 0,
   "metadata": {
    "colab": {},
    "colab_type": "code",
    "id": "TS4U4aE6zNII"
   },
   "outputs": [],
   "source": [
    "#print(pd.describe_option())\n",
    "\n",
    "#pd.options.display.max_rows=100\n",
    "\n",
    "###pd.set_option('min_rows',100)"
   ]
  },
  {
   "cell_type": "code",
   "execution_count": 0,
   "metadata": {
    "colab": {},
    "colab_type": "code",
    "id": "qPwdO_kbzNIM"
   },
   "outputs": [],
   "source": [
    "k=cc['Issue'].value_counts()\n",
    "for val in k.axes[0][0:10]:\n",
    "    varname='Issue_'+val.replace(',','_').replace(' ','_')\n",
    "    cc[varname]=np.where(cc['Issue']==val,1,0)\n",
    "del cc['Issue']"
   ]
  },
  {
   "cell_type": "code",
   "execution_count": 27,
   "metadata": {
    "colab": {
     "base_uri": "https://localhost:8080/",
     "height": 791
    },
    "colab_type": "code",
    "id": "GWh6QRV2zNIS",
    "outputId": "ff0fac1e-288f-4443-aaf1-07d374e48163"
   },
   "outputs": [
    {
     "data": {
      "text/html": [
       "<div>\n",
       "<style scoped>\n",
       "    .dataframe tbody tr th:only-of-type {\n",
       "        vertical-align: middle;\n",
       "    }\n",
       "\n",
       "    .dataframe tbody tr th {\n",
       "        vertical-align: top;\n",
       "    }\n",
       "\n",
       "    .dataframe thead th {\n",
       "        text-align: right;\n",
       "    }\n",
       "</style>\n",
       "<table border=\"1\" class=\"dataframe\">\n",
       "  <thead>\n",
       "    <tr style=\"text-align: right;\">\n",
       "      <th></th>\n",
       "      <th>Closed</th>\n",
       "      <th>Closed with explanation</th>\n",
       "      <th>Closed with monetary relief</th>\n",
       "      <th>Closed with non-monetary relief</th>\n",
       "      <th>Closed with relief</th>\n",
       "      <th>Closed without relief</th>\n",
       "      <th>Untimely response</th>\n",
       "      <th>Company</th>\n",
       "      <th>Complaint ID</th>\n",
       "      <th>Consumer disputed?</th>\n",
       "      <th>Date received</th>\n",
       "      <th>Date sent to company</th>\n",
       "      <th>Product</th>\n",
       "      <th>State</th>\n",
       "      <th>Submitted via</th>\n",
       "      <th>Timely response?</th>\n",
       "      <th>ZIP code</th>\n",
       "      <th>data</th>\n",
       "      <th>Sub_product_isNan</th>\n",
       "      <th>Sub_issue_isNan</th>\n",
       "      <th>Consumer_complaint_narrative_isNan</th>\n",
       "      <th>Company_public_response_isNan</th>\n",
       "      <th>Tags_isNan</th>\n",
       "      <th>Consumer_consent_provided_isNan</th>\n",
       "      <th>Issue_Loan_modification_collection_foreclosure</th>\n",
       "      <th>Issue_Incorrect_information_on_credit_report</th>\n",
       "      <th>Issue_Loan_servicing__payments__escrow_account</th>\n",
       "      <th>Issue_Cont'd_attempts_collect_debt_not_owed</th>\n",
       "      <th>Issue_Account_opening__closing__or_management</th>\n",
       "      <th>Issue_Disclosure_verification_of_debt</th>\n",
       "      <th>Issue_Communication_tactics</th>\n",
       "      <th>Issue_Deposits_and_withdrawals</th>\n",
       "      <th>Issue_Application__originator__mortgage_broker</th>\n",
       "      <th>Issue_Billing_disputes</th>\n",
       "    </tr>\n",
       "  </thead>\n",
       "  <tbody>\n",
       "    <tr>\n",
       "      <th>0</th>\n",
       "      <td>0</td>\n",
       "      <td>1</td>\n",
       "      <td>0</td>\n",
       "      <td>0</td>\n",
       "      <td>0</td>\n",
       "      <td>0</td>\n",
       "      <td>0</td>\n",
       "      <td>Wells Fargo &amp; Company</td>\n",
       "      <td>856103</td>\n",
       "      <td>0</td>\n",
       "      <td>2014-05-15</td>\n",
       "      <td>2014-05-16</td>\n",
       "      <td>Credit card</td>\n",
       "      <td>MI</td>\n",
       "      <td>Web</td>\n",
       "      <td>1</td>\n",
       "      <td>48342</td>\n",
       "      <td>train</td>\n",
       "      <td>1</td>\n",
       "      <td>1</td>\n",
       "      <td>1</td>\n",
       "      <td>1</td>\n",
       "      <td>0</td>\n",
       "      <td>1</td>\n",
       "      <td>0</td>\n",
       "      <td>0</td>\n",
       "      <td>0</td>\n",
       "      <td>0</td>\n",
       "      <td>0</td>\n",
       "      <td>0</td>\n",
       "      <td>0</td>\n",
       "      <td>0</td>\n",
       "      <td>0</td>\n",
       "      <td>0</td>\n",
       "    </tr>\n",
       "    <tr>\n",
       "      <th>1</th>\n",
       "      <td>1</td>\n",
       "      <td>0</td>\n",
       "      <td>0</td>\n",
       "      <td>0</td>\n",
       "      <td>0</td>\n",
       "      <td>0</td>\n",
       "      <td>0</td>\n",
       "      <td>Santander Bank US</td>\n",
       "      <td>1034666</td>\n",
       "      <td>0</td>\n",
       "      <td>2014-09-18</td>\n",
       "      <td>2014-09-24</td>\n",
       "      <td>Bank account or service</td>\n",
       "      <td>PA</td>\n",
       "      <td>Referral</td>\n",
       "      <td>1</td>\n",
       "      <td>18042</td>\n",
       "      <td>train</td>\n",
       "      <td>0</td>\n",
       "      <td>1</td>\n",
       "      <td>1</td>\n",
       "      <td>1</td>\n",
       "      <td>1</td>\n",
       "      <td>1</td>\n",
       "      <td>0</td>\n",
       "      <td>0</td>\n",
       "      <td>0</td>\n",
       "      <td>0</td>\n",
       "      <td>0</td>\n",
       "      <td>0</td>\n",
       "      <td>0</td>\n",
       "      <td>0</td>\n",
       "      <td>0</td>\n",
       "      <td>0</td>\n",
       "    </tr>\n",
       "    <tr>\n",
       "      <th>2</th>\n",
       "      <td>0</td>\n",
       "      <td>0</td>\n",
       "      <td>0</td>\n",
       "      <td>1</td>\n",
       "      <td>0</td>\n",
       "      <td>0</td>\n",
       "      <td>0</td>\n",
       "      <td>Equifax</td>\n",
       "      <td>756363</td>\n",
       "      <td>0</td>\n",
       "      <td>2014-03-13</td>\n",
       "      <td>2014-04-03</td>\n",
       "      <td>Credit reporting</td>\n",
       "      <td>CA</td>\n",
       "      <td>Referral</td>\n",
       "      <td>1</td>\n",
       "      <td>92427</td>\n",
       "      <td>train</td>\n",
       "      <td>1</td>\n",
       "      <td>0</td>\n",
       "      <td>1</td>\n",
       "      <td>1</td>\n",
       "      <td>1</td>\n",
       "      <td>1</td>\n",
       "      <td>0</td>\n",
       "      <td>1</td>\n",
       "      <td>0</td>\n",
       "      <td>0</td>\n",
       "      <td>0</td>\n",
       "      <td>0</td>\n",
       "      <td>0</td>\n",
       "      <td>0</td>\n",
       "      <td>0</td>\n",
       "      <td>0</td>\n",
       "    </tr>\n",
       "    <tr>\n",
       "      <th>3</th>\n",
       "      <td>0</td>\n",
       "      <td>0</td>\n",
       "      <td>1</td>\n",
       "      <td>0</td>\n",
       "      <td>0</td>\n",
       "      <td>0</td>\n",
       "      <td>0</td>\n",
       "      <td>U.S. Bancorp</td>\n",
       "      <td>1474177</td>\n",
       "      <td>0</td>\n",
       "      <td>2015-07-17</td>\n",
       "      <td>2015-07-17</td>\n",
       "      <td>Credit card</td>\n",
       "      <td>GA</td>\n",
       "      <td>Web</td>\n",
       "      <td>1</td>\n",
       "      <td>305XX</td>\n",
       "      <td>train</td>\n",
       "      <td>1</td>\n",
       "      <td>1</td>\n",
       "      <td>0</td>\n",
       "      <td>0</td>\n",
       "      <td>0</td>\n",
       "      <td>0</td>\n",
       "      <td>0</td>\n",
       "      <td>0</td>\n",
       "      <td>0</td>\n",
       "      <td>0</td>\n",
       "      <td>0</td>\n",
       "      <td>0</td>\n",
       "      <td>0</td>\n",
       "      <td>0</td>\n",
       "      <td>0</td>\n",
       "      <td>0</td>\n",
       "    </tr>\n",
       "    <tr>\n",
       "      <th>4</th>\n",
       "      <td>0</td>\n",
       "      <td>1</td>\n",
       "      <td>0</td>\n",
       "      <td>0</td>\n",
       "      <td>0</td>\n",
       "      <td>0</td>\n",
       "      <td>0</td>\n",
       "      <td>Bank of America</td>\n",
       "      <td>1132572</td>\n",
       "      <td>0</td>\n",
       "      <td>2014-11-20</td>\n",
       "      <td>2014-11-28</td>\n",
       "      <td>Credit card</td>\n",
       "      <td>MA</td>\n",
       "      <td>Web</td>\n",
       "      <td>1</td>\n",
       "      <td>02127</td>\n",
       "      <td>train</td>\n",
       "      <td>1</td>\n",
       "      <td>1</td>\n",
       "      <td>1</td>\n",
       "      <td>1</td>\n",
       "      <td>1</td>\n",
       "      <td>1</td>\n",
       "      <td>0</td>\n",
       "      <td>0</td>\n",
       "      <td>0</td>\n",
       "      <td>0</td>\n",
       "      <td>0</td>\n",
       "      <td>0</td>\n",
       "      <td>0</td>\n",
       "      <td>0</td>\n",
       "      <td>0</td>\n",
       "      <td>0</td>\n",
       "    </tr>\n",
       "    <tr>\n",
       "      <th>...</th>\n",
       "      <td>...</td>\n",
       "      <td>...</td>\n",
       "      <td>...</td>\n",
       "      <td>...</td>\n",
       "      <td>...</td>\n",
       "      <td>...</td>\n",
       "      <td>...</td>\n",
       "      <td>...</td>\n",
       "      <td>...</td>\n",
       "      <td>...</td>\n",
       "      <td>...</td>\n",
       "      <td>...</td>\n",
       "      <td>...</td>\n",
       "      <td>...</td>\n",
       "      <td>...</td>\n",
       "      <td>...</td>\n",
       "      <td>...</td>\n",
       "      <td>...</td>\n",
       "      <td>...</td>\n",
       "      <td>...</td>\n",
       "      <td>...</td>\n",
       "      <td>...</td>\n",
       "      <td>...</td>\n",
       "      <td>...</td>\n",
       "      <td>...</td>\n",
       "      <td>...</td>\n",
       "      <td>...</td>\n",
       "      <td>...</td>\n",
       "      <td>...</td>\n",
       "      <td>...</td>\n",
       "      <td>...</td>\n",
       "      <td>...</td>\n",
       "      <td>...</td>\n",
       "      <td>...</td>\n",
       "    </tr>\n",
       "    <tr>\n",
       "      <th>598022</th>\n",
       "      <td>0</td>\n",
       "      <td>0</td>\n",
       "      <td>1</td>\n",
       "      <td>0</td>\n",
       "      <td>0</td>\n",
       "      <td>0</td>\n",
       "      <td>0</td>\n",
       "      <td>JPMorgan Chase &amp; Co.</td>\n",
       "      <td>153482</td>\n",
       "      <td>0</td>\n",
       "      <td>2012-09-15</td>\n",
       "      <td>2012-09-21</td>\n",
       "      <td>Credit card</td>\n",
       "      <td>IL</td>\n",
       "      <td>Web</td>\n",
       "      <td>1</td>\n",
       "      <td>60538</td>\n",
       "      <td>test</td>\n",
       "      <td>1</td>\n",
       "      <td>1</td>\n",
       "      <td>1</td>\n",
       "      <td>1</td>\n",
       "      <td>1</td>\n",
       "      <td>1</td>\n",
       "      <td>0</td>\n",
       "      <td>0</td>\n",
       "      <td>0</td>\n",
       "      <td>0</td>\n",
       "      <td>0</td>\n",
       "      <td>0</td>\n",
       "      <td>0</td>\n",
       "      <td>0</td>\n",
       "      <td>0</td>\n",
       "      <td>0</td>\n",
       "    </tr>\n",
       "    <tr>\n",
       "      <th>598023</th>\n",
       "      <td>0</td>\n",
       "      <td>1</td>\n",
       "      <td>0</td>\n",
       "      <td>0</td>\n",
       "      <td>0</td>\n",
       "      <td>0</td>\n",
       "      <td>0</td>\n",
       "      <td>Experian</td>\n",
       "      <td>2023523</td>\n",
       "      <td>0</td>\n",
       "      <td>2016-07-21</td>\n",
       "      <td>2016-07-21</td>\n",
       "      <td>Credit reporting</td>\n",
       "      <td>CA</td>\n",
       "      <td>Web</td>\n",
       "      <td>1</td>\n",
       "      <td>956XX</td>\n",
       "      <td>test</td>\n",
       "      <td>1</td>\n",
       "      <td>0</td>\n",
       "      <td>0</td>\n",
       "      <td>0</td>\n",
       "      <td>1</td>\n",
       "      <td>0</td>\n",
       "      <td>0</td>\n",
       "      <td>0</td>\n",
       "      <td>0</td>\n",
       "      <td>0</td>\n",
       "      <td>0</td>\n",
       "      <td>0</td>\n",
       "      <td>0</td>\n",
       "      <td>0</td>\n",
       "      <td>0</td>\n",
       "      <td>0</td>\n",
       "    </tr>\n",
       "    <tr>\n",
       "      <th>598024</th>\n",
       "      <td>0</td>\n",
       "      <td>1</td>\n",
       "      <td>0</td>\n",
       "      <td>0</td>\n",
       "      <td>0</td>\n",
       "      <td>0</td>\n",
       "      <td>0</td>\n",
       "      <td>FAIR COLLECTIONS &amp; OUTSOURCING, INC.</td>\n",
       "      <td>1413678</td>\n",
       "      <td>0</td>\n",
       "      <td>2015-06-09</td>\n",
       "      <td>2015-06-12</td>\n",
       "      <td>Debt collection</td>\n",
       "      <td>CA</td>\n",
       "      <td>Phone</td>\n",
       "      <td>1</td>\n",
       "      <td>90803</td>\n",
       "      <td>test</td>\n",
       "      <td>0</td>\n",
       "      <td>0</td>\n",
       "      <td>1</td>\n",
       "      <td>0</td>\n",
       "      <td>0</td>\n",
       "      <td>1</td>\n",
       "      <td>0</td>\n",
       "      <td>0</td>\n",
       "      <td>0</td>\n",
       "      <td>0</td>\n",
       "      <td>0</td>\n",
       "      <td>1</td>\n",
       "      <td>0</td>\n",
       "      <td>0</td>\n",
       "      <td>0</td>\n",
       "      <td>0</td>\n",
       "    </tr>\n",
       "    <tr>\n",
       "      <th>598025</th>\n",
       "      <td>0</td>\n",
       "      <td>1</td>\n",
       "      <td>0</td>\n",
       "      <td>0</td>\n",
       "      <td>0</td>\n",
       "      <td>0</td>\n",
       "      <td>0</td>\n",
       "      <td>Encore Capital Group</td>\n",
       "      <td>732458</td>\n",
       "      <td>0</td>\n",
       "      <td>2014-02-26</td>\n",
       "      <td>2014-02-27</td>\n",
       "      <td>Debt collection</td>\n",
       "      <td>PA</td>\n",
       "      <td>Phone</td>\n",
       "      <td>1</td>\n",
       "      <td>17764</td>\n",
       "      <td>test</td>\n",
       "      <td>0</td>\n",
       "      <td>0</td>\n",
       "      <td>1</td>\n",
       "      <td>1</td>\n",
       "      <td>1</td>\n",
       "      <td>1</td>\n",
       "      <td>0</td>\n",
       "      <td>0</td>\n",
       "      <td>0</td>\n",
       "      <td>0</td>\n",
       "      <td>0</td>\n",
       "      <td>1</td>\n",
       "      <td>0</td>\n",
       "      <td>0</td>\n",
       "      <td>0</td>\n",
       "      <td>0</td>\n",
       "    </tr>\n",
       "    <tr>\n",
       "      <th>598026</th>\n",
       "      <td>0</td>\n",
       "      <td>1</td>\n",
       "      <td>0</td>\n",
       "      <td>0</td>\n",
       "      <td>0</td>\n",
       "      <td>0</td>\n",
       "      <td>0</td>\n",
       "      <td>AllianceOne Recievables Management</td>\n",
       "      <td>1235226</td>\n",
       "      <td>0</td>\n",
       "      <td>2015-02-11</td>\n",
       "      <td>2015-02-11</td>\n",
       "      <td>Debt collection</td>\n",
       "      <td>CA</td>\n",
       "      <td>Web</td>\n",
       "      <td>1</td>\n",
       "      <td>92103</td>\n",
       "      <td>test</td>\n",
       "      <td>0</td>\n",
       "      <td>0</td>\n",
       "      <td>1</td>\n",
       "      <td>1</td>\n",
       "      <td>1</td>\n",
       "      <td>1</td>\n",
       "      <td>0</td>\n",
       "      <td>0</td>\n",
       "      <td>0</td>\n",
       "      <td>1</td>\n",
       "      <td>0</td>\n",
       "      <td>0</td>\n",
       "      <td>0</td>\n",
       "      <td>0</td>\n",
       "      <td>0</td>\n",
       "      <td>0</td>\n",
       "    </tr>\n",
       "  </tbody>\n",
       "</table>\n",
       "<p>598027 rows × 34 columns</p>\n",
       "</div>"
      ],
      "text/plain": [
       "        Closed  ...  Issue_Billing_disputes\n",
       "0            0  ...                       0\n",
       "1            1  ...                       0\n",
       "2            0  ...                       0\n",
       "3            0  ...                       0\n",
       "4            0  ...                       0\n",
       "...        ...  ...                     ...\n",
       "598022       0  ...                       0\n",
       "598023       0  ...                       0\n",
       "598024       0  ...                       0\n",
       "598025       0  ...                       0\n",
       "598026       0  ...                       0\n",
       "\n",
       "[598027 rows x 34 columns]"
      ]
     },
     "execution_count": 27,
     "metadata": {
      "tags": []
     },
     "output_type": "execute_result"
    }
   ],
   "source": [
    "cc"
   ]
  },
  {
   "cell_type": "code",
   "execution_count": 28,
   "metadata": {
    "colab": {
     "base_uri": "https://localhost:8080/",
     "height": 653
    },
    "colab_type": "code",
    "id": "WPtobp8fzNIW",
    "outputId": "853e5347-201b-4c4f-aaa6-d82d51aeb9cb"
   },
   "outputs": [
    {
     "data": {
      "text/plain": [
       "Closed                                               0\n",
       "Closed with explanation                              0\n",
       "Closed with monetary relief                          0\n",
       "Closed with non-monetary relief                      0\n",
       "Closed with relief                                   0\n",
       "Closed without relief                                0\n",
       "Untimely response                                    0\n",
       "Company                                              0\n",
       "Complaint ID                                         0\n",
       "Consumer disputed?                                   0\n",
       "Date received                                        0\n",
       "Date sent to company                                 0\n",
       "Product                                              0\n",
       "State                                             4764\n",
       "Submitted via                                        1\n",
       "Timely response?                                     0\n",
       "ZIP code                                          4774\n",
       "data                                                 0\n",
       "Sub_product_isNan                                    0\n",
       "Sub_issue_isNan                                      0\n",
       "Consumer_complaint_narrative_isNan                   0\n",
       "Company_public_response_isNan                        0\n",
       "Tags_isNan                                           0\n",
       "Consumer_consent_provided_isNan                      0\n",
       "Issue_Loan_modification_collection_foreclosure       0\n",
       "Issue_Incorrect_information_on_credit_report         0\n",
       "Issue_Loan_servicing__payments__escrow_account       0\n",
       "Issue_Cont'd_attempts_collect_debt_not_owed          0\n",
       "Issue_Account_opening__closing__or_management        0\n",
       "Issue_Disclosure_verification_of_debt                0\n",
       "Issue_Communication_tactics                          0\n",
       "Issue_Deposits_and_withdrawals                       0\n",
       "Issue_Application__originator__mortgage_broker       0\n",
       "Issue_Billing_disputes                               0\n",
       "dtype: int64"
      ]
     },
     "execution_count": 28,
     "metadata": {
      "tags": []
     },
     "output_type": "execute_result"
    }
   ],
   "source": [
    "cc.isna().sum()"
   ]
  },
  {
   "cell_type": "markdown",
   "metadata": {
    "colab_type": "text",
    "id": "jg5FHcNSzNIb"
   },
   "source": [
    "Dropping columns which having very less impact on response variable."
   ]
  },
  {
   "cell_type": "code",
   "execution_count": 0,
   "metadata": {
    "colab": {},
    "colab_type": "code",
    "id": "l2QvqB2nzNIe"
   },
   "outputs": [],
   "source": [
    "cc=cc.drop(['ZIP code'],1)"
   ]
  },
  {
   "cell_type": "code",
   "execution_count": 30,
   "metadata": {
    "colab": {
     "base_uri": "https://localhost:8080/",
     "height": 344
    },
    "colab_type": "code",
    "id": "gzkP1XbmzNIk",
    "outputId": "576a4208-662b-42a8-d485-c933b1c98daf"
   },
   "outputs": [
    {
     "data": {
      "text/plain": [
       "Index(['Closed', 'Closed with explanation', 'Closed with monetary relief',\n",
       "       'Closed with non-monetary relief', 'Closed with relief',\n",
       "       'Closed without relief', 'Untimely response', 'Company', 'Complaint ID',\n",
       "       'Consumer disputed?', 'Date received', 'Date sent to company',\n",
       "       'Product', 'State', 'Submitted via', 'Timely response?', 'data',\n",
       "       'Sub_product_isNan', 'Sub_issue_isNan',\n",
       "       'Consumer_complaint_narrative_isNan', 'Company_public_response_isNan',\n",
       "       'Tags_isNan', 'Consumer_consent_provided_isNan',\n",
       "       'Issue_Loan_modification_collection_foreclosure',\n",
       "       'Issue_Incorrect_information_on_credit_report',\n",
       "       'Issue_Loan_servicing__payments__escrow_account',\n",
       "       'Issue_Cont'd_attempts_collect_debt_not_owed',\n",
       "       'Issue_Account_opening__closing__or_management',\n",
       "       'Issue_Disclosure_verification_of_debt', 'Issue_Communication_tactics',\n",
       "       'Issue_Deposits_and_withdrawals',\n",
       "       'Issue_Application__originator__mortgage_broker',\n",
       "       'Issue_Billing_disputes'],\n",
       "      dtype='object')"
      ]
     },
     "execution_count": 30,
     "metadata": {
      "tags": []
     },
     "output_type": "execute_result"
    }
   ],
   "source": [
    "cc.columns"
   ]
  },
  {
   "cell_type": "code",
   "execution_count": 0,
   "metadata": {
    "colab": {},
    "colab_type": "code",
    "id": "97HEHBW1zNIo"
   },
   "outputs": [],
   "source": [
    "feat=['Company','Product','Submitted via','State']\n",
    "for tr in feat:\n",
    "    f=cc[tr].value_counts()\n",
    "    cat=f.index[f>10000]\n",
    "    for t in cat:\n",
    "        name = tr +'_'+t\n",
    "        cc[name]=(cc[tr]==t).astype(int)\n",
    "    del cc[tr]"
   ]
  },
  {
   "cell_type": "code",
   "execution_count": 0,
   "metadata": {
    "colab": {},
    "colab_type": "code",
    "id": "f9IJIiuhzNIt"
   },
   "outputs": [],
   "source": [
    "#pd.options.display.min_rows=70\n",
    "#pd.options.display.max_rows=100\n"
   ]
  },
  {
   "cell_type": "markdown",
   "metadata": {
    "colab_type": "text",
    "id": "RgmTnJcUzNIx"
   },
   "source": [
    "Converting Date and time into useful feature."
   ]
  },
  {
   "cell_type": "code",
   "execution_count": 0,
   "metadata": {
    "colab": {},
    "colab_type": "code",
    "id": "FAzqDQ-rzNIz"
   },
   "outputs": [],
   "source": [
    "from datetime import date"
   ]
  },
  {
   "cell_type": "code",
   "execution_count": 0,
   "metadata": {
    "colab": {},
    "colab_type": "code",
    "id": "9kzj7dSWzNI2"
   },
   "outputs": [],
   "source": [
    "cc[\"Days\"]=pd.to_datetime(cc['Date sent to company'])-pd.to_datetime(cc['Date received'])"
   ]
  },
  {
   "cell_type": "code",
   "execution_count": 34,
   "metadata": {
    "colab": {
     "base_uri": "https://localhost:8080/",
     "height": 235
    },
    "colab_type": "code",
    "id": "XqxIlqiIzNI7",
    "outputId": "fdede584-2c6b-463c-ca36-25a3d620949a"
   },
   "outputs": [
    {
     "data": {
      "text/plain": [
       "0         1 days\n",
       "1         6 days\n",
       "2        21 days\n",
       "3         0 days\n",
       "4         8 days\n",
       "           ...  \n",
       "598022    6 days\n",
       "598023    0 days\n",
       "598024    3 days\n",
       "598025    1 days\n",
       "598026    0 days\n",
       "Name: Days, Length: 598027, dtype: timedelta64[ns]"
      ]
     },
     "execution_count": 34,
     "metadata": {
      "tags": []
     },
     "output_type": "execute_result"
    }
   ],
   "source": [
    "cc['Days']"
   ]
  },
  {
   "cell_type": "code",
   "execution_count": 35,
   "metadata": {
    "colab": {
     "base_uri": "https://localhost:8080/",
     "height": 235
    },
    "colab_type": "code",
    "id": "RDkGlKrczNI-",
    "outputId": "b0676c5f-9bb5-415d-a3fb-c175acfcaa37"
   },
   "outputs": [
    {
     "data": {
      "text/plain": [
       "0 days      262268\n",
       "1 days       73537\n",
       "2 days       47613\n",
       "3 days       38469\n",
       "4 days       35760\n",
       "             ...  \n",
       "482 days         1\n",
       "293 days         1\n",
       "312 days         1\n",
       "520 days         1\n",
       "340 days         1\n",
       "Name: Days, Length: 420, dtype: int64"
      ]
     },
     "execution_count": 35,
     "metadata": {
      "tags": []
     },
     "output_type": "execute_result"
    }
   ],
   "source": [
    "cc[\"Days\"].value_counts()"
   ]
  },
  {
   "cell_type": "code",
   "execution_count": 0,
   "metadata": {
    "colab": {},
    "colab_type": "code",
    "id": "cysK2c6TzNJB"
   },
   "outputs": [],
   "source": [
    "cc['Days']=cc[\"Days\"].astype(str).map(lambda x: x.rstrip('days 00:00:00.000000000').rstrip(' days +'))\n",
    "cc[\"Days\"]=cc[\"Days\"].map(lambda x: x.lstrip())"
   ]
  },
  {
   "cell_type": "code",
   "execution_count": 37,
   "metadata": {
    "colab": {
     "base_uri": "https://localhost:8080/",
     "height": 235
    },
    "colab_type": "code",
    "id": "wgB6VzUGzNJF",
    "outputId": "a8b951ff-17b8-48c9-9192-63935038f015"
   },
   "outputs": [
    {
     "data": {
      "text/plain": [
       "       262268\n",
       "1       76698\n",
       "2       49568\n",
       "3       38973\n",
       "4       36162\n",
       "        ...  \n",
       "392         1\n",
       "591         1\n",
       "713         1\n",
       "414         1\n",
       "588         1\n",
       "Name: Days, Length: 378, dtype: int64"
      ]
     },
     "execution_count": 37,
     "metadata": {
      "tags": []
     },
     "output_type": "execute_result"
    }
   ],
   "source": [
    "v=cc[\"Days\"]\n",
    "v.value_counts()"
   ]
  },
  {
   "cell_type": "code",
   "execution_count": 0,
   "metadata": {
    "colab": {},
    "colab_type": "code",
    "id": "KcujEMC2zNJJ"
   },
   "outputs": [],
   "source": [
    "cc[\"Days\"]=cc['Days'].replace(to_replace=[''],value=[0])\n"
   ]
  },
  {
   "cell_type": "code",
   "execution_count": 0,
   "metadata": {
    "colab": {},
    "colab_type": "code",
    "id": "T8XLFoqezNJO"
   },
   "outputs": [],
   "source": [
    "cc[\"Days\"]=[int(x) for x in cc[\"Days\"]]\n",
    "cc[\"Days\"]=cc['Days'].replace(to_replace=[-1],value=[0])"
   ]
  },
  {
   "cell_type": "code",
   "execution_count": 0,
   "metadata": {
    "colab": {},
    "colab_type": "code",
    "id": "lU5BSkVzzNJV"
   },
   "outputs": [],
   "source": [
    "cc=cc.drop([\"Complaint ID\",\"Date sent to company\",\"Date received\"],1)"
   ]
  },
  {
   "cell_type": "code",
   "execution_count": 0,
   "metadata": {
    "colab": {},
    "colab_type": "code",
    "id": "_M3gazkszNJc"
   },
   "outputs": [],
   "source": [
    "cc[\"Days\"]=pd.to_numeric(cc[\"Days\"],errors=\"coerce\")"
   ]
  },
  {
   "cell_type": "code",
   "execution_count": 42,
   "metadata": {
    "colab": {
     "base_uri": "https://localhost:8080/",
     "height": 235
    },
    "colab_type": "code",
    "id": "Z0jcv_cuzNJh",
    "outputId": "6084422f-00b4-463b-a2e8-8e4b140e0184"
   },
   "outputs": [
    {
     "data": {
      "text/plain": [
       "Closed                             uint8\n",
       "Closed with explanation            uint8\n",
       "Closed with monetary relief        uint8\n",
       "Closed with non-monetary relief    uint8\n",
       "Closed with relief                 uint8\n",
       "                                   ...  \n",
       "State_AZ                           int64\n",
       "State_WA                           int64\n",
       "State_MA                           int64\n",
       "State_CO                           int64\n",
       "Days                               int64\n",
       "Length: 67, dtype: object"
      ]
     },
     "execution_count": 42,
     "metadata": {
      "tags": []
     },
     "output_type": "execute_result"
    }
   ],
   "source": [
    "cc.dtypes"
   ]
  },
  {
   "cell_type": "code",
   "execution_count": 43,
   "metadata": {
    "colab": {
     "base_uri": "https://localhost:8080/",
     "height": 35
    },
    "colab_type": "code",
    "id": "RdZT7JfvzNJm",
    "outputId": "bde61015-4018-4541-a457-1c73da01d80a"
   },
   "outputs": [
    {
     "data": {
      "text/plain": [
       "(478421, 67)"
      ]
     },
     "execution_count": 43,
     "metadata": {
      "tags": []
     },
     "output_type": "execute_result"
    }
   ],
   "source": [
    "cc_tra=cc[cc[\"data\"]==\"train\"]\n",
    "cc_tra.shape"
   ]
  },
  {
   "cell_type": "code",
   "execution_count": 44,
   "metadata": {
    "colab": {
     "base_uri": "https://localhost:8080/",
     "height": 35
    },
    "colab_type": "code",
    "id": "5TIDOYSjzNJt",
    "outputId": "40e9deb3-6603-4831-fd6b-5f55f254dc4c"
   },
   "outputs": [
    {
     "data": {
      "text/plain": [
       "(119606, 67)"
      ]
     },
     "execution_count": 44,
     "metadata": {
      "tags": []
     },
     "output_type": "execute_result"
    }
   ],
   "source": [
    "cc_tes=cc[cc[\"data\"]==\"test\"]\n",
    "cc_tes.shape"
   ]
  },
  {
   "cell_type": "code",
   "execution_count": 45,
   "metadata": {
    "colab": {
     "base_uri": "https://localhost:8080/",
     "height": 35
    },
    "colab_type": "code",
    "id": "F1AIBo6YzNJ1",
    "outputId": "8dfee76c-416b-4a01-9936-aa411a950f18"
   },
   "outputs": [
    {
     "data": {
      "text/plain": [
       "(119606, 66)"
      ]
     },
     "execution_count": 45,
     "metadata": {
      "tags": []
     },
     "output_type": "execute_result"
    }
   ],
   "source": [
    "cc_tes=cc_tes.drop([\"Consumer disputed?\"],1)\n",
    "cc_tes.shape"
   ]
  },
  {
   "cell_type": "code",
   "execution_count": 0,
   "metadata": {
    "colab": {},
    "colab_type": "code",
    "id": "OosrRDAUzNJ4"
   },
   "outputs": [],
   "source": [
    "cc_tra=cc_tra.drop([\"data\"],1)\n",
    "cc_tes=cc_tes.drop([\"data\"],1)"
   ]
  },
  {
   "cell_type": "code",
   "execution_count": 47,
   "metadata": {
    "colab": {
     "base_uri": "https://localhost:8080/",
     "height": 235
    },
    "colab_type": "code",
    "id": "H3EgkdaizNKA",
    "outputId": "470bf1ad-b896-4c57-ba92-5a68f0cb3a7a"
   },
   "outputs": [
    {
     "data": {
      "text/plain": [
       "Closed                             0\n",
       "Closed with explanation            0\n",
       "Closed with monetary relief        0\n",
       "Closed with non-monetary relief    0\n",
       "Closed with relief                 0\n",
       "                                  ..\n",
       "State_AZ                           0\n",
       "State_WA                           0\n",
       "State_MA                           0\n",
       "State_CO                           0\n",
       "Days                               0\n",
       "Length: 67, dtype: int64"
      ]
     },
     "execution_count": 47,
     "metadata": {
      "tags": []
     },
     "output_type": "execute_result"
    }
   ],
   "source": [
    "cc.isna().sum()"
   ]
  },
  {
   "cell_type": "code",
   "execution_count": 0,
   "metadata": {
    "colab": {},
    "colab_type": "code",
    "id": "tVuGANa9zNKK"
   },
   "outputs": [],
   "source": [
    "cc_tra1,cc_tra2=train_test_split(cc_tra,test_size=0.2,random_state=2)"
   ]
  },
  {
   "cell_type": "code",
   "execution_count": 49,
   "metadata": {
    "colab": {
     "base_uri": "https://localhost:8080/",
     "height": 35
    },
    "colab_type": "code",
    "id": "uRWisKKyzNKU",
    "outputId": "83766e6f-472c-4f41-e498-c60c9eca0fcd"
   },
   "outputs": [
    {
     "data": {
      "text/plain": [
       "(382736, 66)"
      ]
     },
     "execution_count": 49,
     "metadata": {
      "tags": []
     },
     "output_type": "execute_result"
    }
   ],
   "source": [
    "cc_tra1.shape"
   ]
  },
  {
   "cell_type": "code",
   "execution_count": 0,
   "metadata": {
    "colab": {},
    "colab_type": "code",
    "id": "YZhk4N4XzNKZ"
   },
   "outputs": [],
   "source": [
    "x_train=cc_tra1.drop(['Consumer disputed?'],1)\n",
    "\n",
    "y_train=cc_tra1[\"Consumer disputed?\"]\n",
    "\n",
    "x_test=cc_tra2.drop(['Consumer disputed?'],1)\n",
    "\n",
    "y_test=cc_tra2['Consumer disputed?']"
   ]
  },
  {
   "cell_type": "code",
   "execution_count": 51,
   "metadata": {
    "colab": {
     "base_uri": "https://localhost:8080/",
     "height": 35
    },
    "colab_type": "code",
    "id": "p3b7f9TGzNKe",
    "outputId": "704f1784-7bde-4644-89ab-f115196fbacb"
   },
   "outputs": [
    {
     "data": {
      "text/plain": [
       "(382736, 65)"
      ]
     },
     "execution_count": 51,
     "metadata": {
      "tags": []
     },
     "output_type": "execute_result"
    }
   ],
   "source": [
    "x_train.shape"
   ]
  },
  {
   "cell_type": "markdown",
   "metadata": {
    "colab_type": "text",
    "id": "evGWGA4dzNKi"
   },
   "source": [
    "# Logistics Regression"
   ]
  },
  {
   "cell_type": "code",
   "execution_count": 0,
   "metadata": {
    "colab": {},
    "colab_type": "code",
    "id": "vQ-9Jr7GzNKj"
   },
   "outputs": [],
   "source": [
    "logr=LogisticRegression(penalty='l2',class_weight=\"balanced\",random_state= 3)"
   ]
  },
  {
   "cell_type": "code",
   "execution_count": 53,
   "metadata": {
    "colab": {
     "base_uri": "https://localhost:8080/",
     "height": 253
    },
    "colab_type": "code",
    "id": "-B9RymtPzNKn",
    "outputId": "b3c89941-ca67-4b87-f5c6-39b2e18f8637"
   },
   "outputs": [
    {
     "name": "stderr",
     "output_type": "stream",
     "text": [
      "/usr/local/lib/python3.6/dist-packages/sklearn/linear_model/_logistic.py:940: ConvergenceWarning: lbfgs failed to converge (status=1):\n",
      "STOP: TOTAL NO. of ITERATIONS REACHED LIMIT.\n",
      "\n",
      "Increase the number of iterations (max_iter) or scale the data as shown in:\n",
      "    https://scikit-learn.org/stable/modules/preprocessing.html\n",
      "Please also refer to the documentation for alternative solver options:\n",
      "    https://scikit-learn.org/stable/modules/linear_model.html#logistic-regression\n",
      "  extra_warning_msg=_LOGISTIC_SOLVER_CONVERGENCE_MSG)\n"
     ]
    },
    {
     "data": {
      "text/plain": [
       "LogisticRegression(C=1.0, class_weight='balanced', dual=False,\n",
       "                   fit_intercept=True, intercept_scaling=1, l1_ratio=None,\n",
       "                   max_iter=100, multi_class='auto', n_jobs=None, penalty='l2',\n",
       "                   random_state=3, solver='lbfgs', tol=0.0001, verbose=0,\n",
       "                   warm_start=False)"
      ]
     },
     "execution_count": 53,
     "metadata": {
      "tags": []
     },
     "output_type": "execute_result"
    }
   ],
   "source": [
    "logr.fit(x_train,y_train)"
   ]
  },
  {
   "cell_type": "code",
   "execution_count": 54,
   "metadata": {
    "colab": {
     "base_uri": "https://localhost:8080/",
     "height": 35
    },
    "colab_type": "code",
    "id": "bn-4JUkfzNKr",
    "outputId": "d41597a8-7912-4a8c-e045-930aaa6afa6e"
   },
   "outputs": [
    {
     "data": {
      "text/plain": [
       "0.5834170420087239"
      ]
     },
     "execution_count": 54,
     "metadata": {
      "tags": []
     },
     "output_type": "execute_result"
    }
   ],
   "source": [
    "roc_auc_score(y_test,logr.predict(x_test))#l2 score "
   ]
  },
  {
   "cell_type": "code",
   "execution_count": 55,
   "metadata": {
    "colab": {
     "base_uri": "https://localhost:8080/",
     "height": 35
    },
    "colab_type": "code",
    "id": "twNp-PUizNKw",
    "outputId": "62c13de6-8657-41c0-8da4-b695d65f8609"
   },
   "outputs": [
    {
     "data": {
      "text/plain": [
       "0.5834170420087239"
      ]
     },
     "execution_count": 55,
     "metadata": {
      "tags": []
     },
     "output_type": "execute_result"
    }
   ],
   "source": [
    "roc_auc_score(y_test,logr.predict(x_test))"
   ]
  },
  {
   "cell_type": "code",
   "execution_count": 0,
   "metadata": {
    "colab": {},
    "colab_type": "code",
    "id": "vn9fWHxczNK1"
   },
   "outputs": [],
   "source": []
  },
  {
   "cell_type": "markdown",
   "metadata": {
    "colab_type": "text",
    "id": "6e-kZqsNzNLE"
   },
   "source": [
    "# RandomForest "
   ]
  },
  {
   "cell_type": "code",
   "execution_count": 0,
   "metadata": {
    "colab": {},
    "colab_type": "code",
    "id": "dB3TPksjzNLH"
   },
   "outputs": [],
   "source": [
    "from sklearn.model_selection import RandomizedSearchCV"
   ]
  },
  {
   "cell_type": "code",
   "execution_count": 0,
   "metadata": {
    "colab": {},
    "colab_type": "code",
    "id": "RyqZTthwzNLP"
   },
   "outputs": [],
   "source": [
    "from sklearn.ensemble import RandomForestClassifier"
   ]
  },
  {
   "cell_type": "code",
   "execution_count": 0,
   "metadata": {
    "colab": {},
    "colab_type": "code",
    "id": "ps2fjI2LzNLY"
   },
   "outputs": [],
   "source": [
    "clf=RandomForestClassifier()"
   ]
  },
  {
   "cell_type": "code",
   "execution_count": 0,
   "metadata": {
    "colab": {},
    "colab_type": "code",
    "id": "Ldg4hxP6zNLg"
   },
   "outputs": [],
   "source": []
  },
  {
   "cell_type": "code",
   "execution_count": 0,
   "metadata": {
    "colab": {},
    "colab_type": "code",
    "id": "x5WWievMzNMH"
   },
   "outputs": [],
   "source": [
    "# RandomSearchCV accept parameters values as dictionaries.\n",
    "# In example given below we have constructed dictionary for \n",
    "#different parameter values that we want to\n",
    "# try for randomForest model\n",
    "\n",
    "params={\n",
    "    'n_estimators':[1000,3000,4000],\n",
    "    'criterion':['gini','entropy'],\n",
    "    'max_depth':[None,2,5,7,9],\n",
    "    'min_samples_split':[10,20,30,40],\n",
    "    'min_samples_leaf':[10,30,40,50],\n",
    "    'max_features':[None,2,3,5,7],\n",
    "    'bootstrap':[True,False],\n",
    "     'verbose':[1],\n",
    "    'class_weight':[None,'balanced']}"
   ]
  },
  {
   "cell_type": "code",
   "execution_count": 0,
   "metadata": {
    "colab": {},
    "colab_type": "code",
    "id": "WJ0X4thezNMN"
   },
   "outputs": [],
   "source": [
    "random_search=RandomizedSearchCV(clf,param_distributions=params,n_iter=3,scoring='roc_auc',cv=5)"
   ]
  },
  {
   "cell_type": "code",
   "execution_count": 61,
   "metadata": {
    "colab": {
     "base_uri": "https://localhost:8080/",
     "height": 1000
    },
    "colab_type": "code",
    "id": "0Ok71t12zNMT",
    "outputId": "1790c659-52ef-4491-ca42-e4b58ef485cc"
   },
   "outputs": [
    {
     "name": "stderr",
     "output_type": "stream",
     "text": [
      "[Parallel(n_jobs=1)]: Using backend SequentialBackend with 1 concurrent workers.\n",
      "[Parallel(n_jobs=1)]: Done 1000 out of 1000 | elapsed:   34.5s finished\n",
      "[Parallel(n_jobs=1)]: Using backend SequentialBackend with 1 concurrent workers.\n",
      "[Parallel(n_jobs=1)]: Done 1000 out of 1000 | elapsed:    2.6s finished\n",
      "[Parallel(n_jobs=1)]: Using backend SequentialBackend with 1 concurrent workers.\n",
      "[Parallel(n_jobs=1)]: Done 1000 out of 1000 | elapsed:   35.5s finished\n",
      "[Parallel(n_jobs=1)]: Using backend SequentialBackend with 1 concurrent workers.\n",
      "[Parallel(n_jobs=1)]: Done 1000 out of 1000 | elapsed:    2.6s finished\n",
      "[Parallel(n_jobs=1)]: Using backend SequentialBackend with 1 concurrent workers.\n",
      "[Parallel(n_jobs=1)]: Done 1000 out of 1000 | elapsed:   35.1s finished\n",
      "[Parallel(n_jobs=1)]: Using backend SequentialBackend with 1 concurrent workers.\n",
      "[Parallel(n_jobs=1)]: Done 1000 out of 1000 | elapsed:    2.6s finished\n",
      "[Parallel(n_jobs=1)]: Using backend SequentialBackend with 1 concurrent workers.\n",
      "[Parallel(n_jobs=1)]: Done 1000 out of 1000 | elapsed:   35.6s finished\n",
      "[Parallel(n_jobs=1)]: Using backend SequentialBackend with 1 concurrent workers.\n",
      "[Parallel(n_jobs=1)]: Done 1000 out of 1000 | elapsed:    2.7s finished\n",
      "[Parallel(n_jobs=1)]: Using backend SequentialBackend with 1 concurrent workers.\n",
      "[Parallel(n_jobs=1)]: Done 1000 out of 1000 | elapsed:   36.2s finished\n",
      "[Parallel(n_jobs=1)]: Using backend SequentialBackend with 1 concurrent workers.\n",
      "[Parallel(n_jobs=1)]: Done 1000 out of 1000 | elapsed:    2.6s finished\n",
      "[Parallel(n_jobs=1)]: Using backend SequentialBackend with 1 concurrent workers.\n",
      "[Parallel(n_jobs=1)]: Done 4000 out of 4000 | elapsed: 37.2min finished\n",
      "[Parallel(n_jobs=1)]: Using backend SequentialBackend with 1 concurrent workers.\n",
      "[Parallel(n_jobs=1)]: Done 4000 out of 4000 | elapsed:   16.7s finished\n",
      "[Parallel(n_jobs=1)]: Using backend SequentialBackend with 1 concurrent workers.\n",
      "[Parallel(n_jobs=1)]: Done 4000 out of 4000 | elapsed: 36.5min finished\n",
      "[Parallel(n_jobs=1)]: Using backend SequentialBackend with 1 concurrent workers.\n",
      "[Parallel(n_jobs=1)]: Done 4000 out of 4000 | elapsed:   16.5s finished\n",
      "[Parallel(n_jobs=1)]: Using backend SequentialBackend with 1 concurrent workers.\n",
      "[Parallel(n_jobs=1)]: Done 4000 out of 4000 | elapsed: 38.0min finished\n",
      "[Parallel(n_jobs=1)]: Using backend SequentialBackend with 1 concurrent workers.\n",
      "[Parallel(n_jobs=1)]: Done 4000 out of 4000 | elapsed:   16.3s finished\n",
      "[Parallel(n_jobs=1)]: Using backend SequentialBackend with 1 concurrent workers.\n",
      "[Parallel(n_jobs=1)]: Done 4000 out of 4000 | elapsed: 37.5min finished\n",
      "[Parallel(n_jobs=1)]: Using backend SequentialBackend with 1 concurrent workers.\n",
      "[Parallel(n_jobs=1)]: Done 4000 out of 4000 | elapsed:   16.1s finished\n",
      "[Parallel(n_jobs=1)]: Using backend SequentialBackend with 1 concurrent workers.\n",
      "[Parallel(n_jobs=1)]: Done 4000 out of 4000 | elapsed: 36.0min finished\n",
      "[Parallel(n_jobs=1)]: Using backend SequentialBackend with 1 concurrent workers.\n",
      "[Parallel(n_jobs=1)]: Done 4000 out of 4000 | elapsed:   16.3s finished\n",
      "[Parallel(n_jobs=1)]: Using backend SequentialBackend with 1 concurrent workers.\n",
      "[Parallel(n_jobs=1)]: Done 3000 out of 3000 | elapsed:  5.7min finished\n",
      "[Parallel(n_jobs=1)]: Using backend SequentialBackend with 1 concurrent workers.\n",
      "[Parallel(n_jobs=1)]: Done 3000 out of 3000 | elapsed:   11.2s finished\n",
      "[Parallel(n_jobs=1)]: Using backend SequentialBackend with 1 concurrent workers.\n",
      "[Parallel(n_jobs=1)]: Done 3000 out of 3000 | elapsed:  5.9min finished\n",
      "[Parallel(n_jobs=1)]: Using backend SequentialBackend with 1 concurrent workers.\n",
      "[Parallel(n_jobs=1)]: Done 3000 out of 3000 | elapsed:   11.2s finished\n",
      "[Parallel(n_jobs=1)]: Using backend SequentialBackend with 1 concurrent workers.\n",
      "[Parallel(n_jobs=1)]: Done 3000 out of 3000 | elapsed:  5.9min finished\n",
      "[Parallel(n_jobs=1)]: Using backend SequentialBackend with 1 concurrent workers.\n",
      "[Parallel(n_jobs=1)]: Done 3000 out of 3000 | elapsed:   11.3s finished\n",
      "[Parallel(n_jobs=1)]: Using backend SequentialBackend with 1 concurrent workers.\n",
      "[Parallel(n_jobs=1)]: Done 3000 out of 3000 | elapsed:  5.9min finished\n",
      "[Parallel(n_jobs=1)]: Using backend SequentialBackend with 1 concurrent workers.\n",
      "[Parallel(n_jobs=1)]: Done 3000 out of 3000 | elapsed:   11.2s finished\n",
      "[Parallel(n_jobs=1)]: Using backend SequentialBackend with 1 concurrent workers.\n",
      "[Parallel(n_jobs=1)]: Done 3000 out of 3000 | elapsed:  5.9min finished\n",
      "[Parallel(n_jobs=1)]: Using backend SequentialBackend with 1 concurrent workers.\n",
      "[Parallel(n_jobs=1)]: Done 3000 out of 3000 | elapsed:   11.5s finished\n",
      "[Parallel(n_jobs=1)]: Using backend SequentialBackend with 1 concurrent workers.\n",
      "[Parallel(n_jobs=1)]: Done 4000 out of 4000 | elapsed: 50.2min finished\n"
     ]
    },
    {
     "data": {
      "text/plain": [
       "RandomizedSearchCV(cv=5, error_score=nan,\n",
       "                   estimator=RandomForestClassifier(bootstrap=True,\n",
       "                                                    ccp_alpha=0.0,\n",
       "                                                    class_weight=None,\n",
       "                                                    criterion='gini',\n",
       "                                                    max_depth=None,\n",
       "                                                    max_features='auto',\n",
       "                                                    max_leaf_nodes=None,\n",
       "                                                    max_samples=None,\n",
       "                                                    min_impurity_decrease=0.0,\n",
       "                                                    min_impurity_split=None,\n",
       "                                                    min_samples_leaf=1,\n",
       "                                                    min_samples_split=2,\n",
       "                                                    min_weight_fraction_leaf=0.0,\n",
       "                                                    n_estimators=100,\n",
       "                                                    n_jobs...\n",
       "                   param_distributions={'bootstrap': [True, False],\n",
       "                                        'class_weight': [None, 'balanced'],\n",
       "                                        'criterion': ['gini', 'entropy'],\n",
       "                                        'max_depth': [None, 2, 5, 7, 9],\n",
       "                                        'max_features': [None, 2, 3, 5, 7],\n",
       "                                        'min_samples_leaf': [10, 30, 40, 50],\n",
       "                                        'min_samples_split': [10, 20, 30, 40],\n",
       "                                        'n_estimators': [1000, 3000, 4000],\n",
       "                                        'verbose': [1]},\n",
       "                   pre_dispatch='2*n_jobs', random_state=None, refit=True,\n",
       "                   return_train_score=False, scoring='roc_auc', verbose=0)"
      ]
     },
     "execution_count": 61,
     "metadata": {
      "tags": []
     },
     "output_type": "execute_result"
    }
   ],
   "source": [
    "random_search.fit(x_train,y_train)"
   ]
  },
  {
   "cell_type": "code",
   "execution_count": 0,
   "metadata": {
    "colab": {},
    "colab_type": "code",
    "id": "T5aEPongzNMZ"
   },
   "outputs": [],
   "source": [
    "def report(results, n_top=3):\n",
    "    for i in range(1, n_top + 1):\n",
    "        candidates = np.flatnonzero(results['rank_test_score'] == i)\n",
    "        for candidate in candidates:\n",
    "            print(\"Model with rank: {0}\".format(i))\n",
    "            print(\"Mean validation score: {0:.3f} (std: {1:.5f})\".format(\n",
    "                  results['mean_test_score'][candidate],\n",
    "                  results['std_test_score'][candidate]))\n",
    "            print(\"Parameters: {0}\".format(results['params'][candidate]))\n",
    "            print(\"\")"
   ]
  },
  {
   "cell_type": "code",
   "execution_count": 63,
   "metadata": {
    "colab": {
     "base_uri": "https://localhost:8080/",
     "height": 255
    },
    "colab_type": "code",
    "id": "ZmLu4Gl5zNMa",
    "outputId": "799c8ab8-af2c-488e-c988-18f238c08c76"
   },
   "outputs": [
    {
     "name": "stdout",
     "output_type": "stream",
     "text": [
      "Model with rank: 1\n",
      "Mean validation score: 0.614 (std: 0.00249)\n",
      "Parameters: {'verbose': 1, 'n_estimators': 4000, 'min_samples_split': 30, 'min_samples_leaf': 50, 'max_features': None, 'max_depth': 5, 'criterion': 'gini', 'class_weight': 'balanced', 'bootstrap': True}\n",
      "\n",
      "Model with rank: 2\n",
      "Mean validation score: 0.609 (std: 0.00236)\n",
      "Parameters: {'verbose': 1, 'n_estimators': 3000, 'min_samples_split': 10, 'min_samples_leaf': 40, 'max_features': 7, 'max_depth': 5, 'criterion': 'gini', 'class_weight': 'balanced', 'bootstrap': False}\n",
      "\n",
      "Model with rank: 3\n",
      "Mean validation score: 0.601 (std: 0.00304)\n",
      "Parameters: {'verbose': 1, 'n_estimators': 1000, 'min_samples_split': 20, 'min_samples_leaf': 30, 'max_features': 2, 'max_depth': 2, 'criterion': 'gini', 'class_weight': None, 'bootstrap': False}\n",
      "\n"
     ]
    }
   ],
   "source": [
    "report(random_search.cv_results_,5)"
   ]
  },
  {
   "cell_type": "code",
   "execution_count": 0,
   "metadata": {
    "colab": {},
    "colab_type": "code",
    "id": "PWM-VHWYzNMc"
   },
   "outputs": [],
   "source": [
    "# select the best values from results above, they will vary slightly with each run\n",
    "rf=RandomForestClassifier(verbose= 1, n_estimators = 4000, min_samples_split= 30, min_samples_leaf= 50, max_features = None, \n",
    "                          max_depth = 5, criterion = 'gini', class_weight = 'balanced', bootstrap = True\n",
    ")"
   ]
  },
  {
   "cell_type": "code",
   "execution_count": 66,
   "metadata": {
    "colab": {
     "base_uri": "https://localhost:8080/",
     "height": 199
    },
    "colab_type": "code",
    "id": "UZcjw6R8zNMg",
    "outputId": "c104fb9c-7c05-4898-b636-da2be8293343"
   },
   "outputs": [
    {
     "name": "stderr",
     "output_type": "stream",
     "text": [
      "[Parallel(n_jobs=1)]: Using backend SequentialBackend with 1 concurrent workers.\n",
      "[Parallel(n_jobs=1)]: Done 4000 out of 4000 | elapsed: 47.5min finished\n"
     ]
    },
    {
     "data": {
      "text/plain": [
       "RandomForestClassifier(bootstrap=True, ccp_alpha=0.0, class_weight='balanced',\n",
       "                       criterion='gini', max_depth=5, max_features=None,\n",
       "                       max_leaf_nodes=None, max_samples=None,\n",
       "                       min_impurity_decrease=0.0, min_impurity_split=None,\n",
       "                       min_samples_leaf=50, min_samples_split=30,\n",
       "                       min_weight_fraction_leaf=0.0, n_estimators=4000,\n",
       "                       n_jobs=None, oob_score=False, random_state=None,\n",
       "                       verbose=1, warm_start=False)"
      ]
     },
     "execution_count": 66,
     "metadata": {
      "tags": []
     },
     "output_type": "execute_result"
    }
   ],
   "source": [
    "rf.fit(x_train,y_train)"
   ]
  },
  {
   "cell_type": "code",
   "execution_count": 69,
   "metadata": {
    "colab": {
     "base_uri": "https://localhost:8080/",
     "height": 53
    },
    "colab_type": "code",
    "id": "Do_0B1rzzNMi",
    "outputId": "7a6fdf38-3c7a-471d-b23e-c583e08cdf57"
   },
   "outputs": [
    {
     "name": "stderr",
     "output_type": "stream",
     "text": [
      "[Parallel(n_jobs=1)]: Using backend SequentialBackend with 1 concurrent workers.\n",
      "[Parallel(n_jobs=1)]: Done 4000 out of 4000 | elapsed:   21.3s finished\n"
     ]
    }
   ],
   "source": [
    "ypred2=rf.predict(x_test)"
   ]
  },
  {
   "cell_type": "code",
   "execution_count": 71,
   "metadata": {
    "colab": {
     "base_uri": "https://localhost:8080/",
     "height": 35
    },
    "colab_type": "code",
    "id": "qMalfqkAzNMk",
    "outputId": "4b3c77e7-fa3b-48ec-b1b9-43730b51afc9"
   },
   "outputs": [
    {
     "data": {
      "text/plain": [
       "0.581746158066147"
      ]
     },
     "execution_count": 71,
     "metadata": {
      "tags": []
     },
     "output_type": "execute_result"
    }
   ],
   "source": [
    "roc_auc_score(y_test,ypred2)"
   ]
  },
  {
   "cell_type": "code",
   "execution_count": 0,
   "metadata": {
    "colab": {},
    "colab_type": "code",
    "id": "9jHPD0UpzNMr"
   },
   "outputs": [],
   "source": []
  },
  {
   "cell_type": "markdown",
   "metadata": {
    "colab_type": "text",
    "id": "G1j263FozNMx"
   },
   "source": [
    "# Feature Importance"
   ]
  },
  {
   "cell_type": "code",
   "execution_count": 72,
   "metadata": {
    "colab": {
     "base_uri": "https://localhost:8080/",
     "height": 424
    },
    "colab_type": "code",
    "id": "lvJKB1thzNM0",
    "outputId": "6101346d-4fa0-4db7-a1f1-b8f4c5860f89"
   },
   "outputs": [
    {
     "data": {
      "text/html": [
       "<div>\n",
       "<style scoped>\n",
       "    .dataframe tbody tr th:only-of-type {\n",
       "        vertical-align: middle;\n",
       "    }\n",
       "\n",
       "    .dataframe tbody tr th {\n",
       "        vertical-align: top;\n",
       "    }\n",
       "\n",
       "    .dataframe thead th {\n",
       "        text-align: right;\n",
       "    }\n",
       "</style>\n",
       "<table border=\"1\" class=\"dataframe\">\n",
       "  <thead>\n",
       "    <tr style=\"text-align: right;\">\n",
       "      <th></th>\n",
       "      <th>features</th>\n",
       "      <th>importance</th>\n",
       "    </tr>\n",
       "  </thead>\n",
       "  <tbody>\n",
       "    <tr>\n",
       "      <th>1</th>\n",
       "      <td>Closed with explanation</td>\n",
       "      <td>3.187394e-01</td>\n",
       "    </tr>\n",
       "    <tr>\n",
       "      <th>43</th>\n",
       "      <td>Submitted via_Web</td>\n",
       "      <td>1.979412e-01</td>\n",
       "    </tr>\n",
       "    <tr>\n",
       "      <th>9</th>\n",
       "      <td>Sub_issue_isNan</td>\n",
       "      <td>1.368960e-01</td>\n",
       "    </tr>\n",
       "    <tr>\n",
       "      <th>5</th>\n",
       "      <td>Closed without relief</td>\n",
       "      <td>1.229239e-01</td>\n",
       "    </tr>\n",
       "    <tr>\n",
       "      <th>0</th>\n",
       "      <td>Closed</td>\n",
       "      <td>6.162876e-02</td>\n",
       "    </tr>\n",
       "    <tr>\n",
       "      <th>...</th>\n",
       "      <td>...</td>\n",
       "      <td>...</td>\n",
       "    </tr>\n",
       "    <tr>\n",
       "      <th>29</th>\n",
       "      <td>Company_TransUnion Intermediate Holdings, Inc.</td>\n",
       "      <td>1.884361e-06</td>\n",
       "    </tr>\n",
       "    <tr>\n",
       "      <th>33</th>\n",
       "      <td>Company_Nationstar Mortgage</td>\n",
       "      <td>1.730486e-06</td>\n",
       "    </tr>\n",
       "    <tr>\n",
       "      <th>35</th>\n",
       "      <td>Company_U.S. Bancorp</td>\n",
       "      <td>1.044193e-06</td>\n",
       "    </tr>\n",
       "    <tr>\n",
       "      <th>4</th>\n",
       "      <td>Closed with relief</td>\n",
       "      <td>6.169964e-07</td>\n",
       "    </tr>\n",
       "    <tr>\n",
       "      <th>6</th>\n",
       "      <td>Untimely response</td>\n",
       "      <td>0.000000e+00</td>\n",
       "    </tr>\n",
       "  </tbody>\n",
       "</table>\n",
       "<p>65 rows × 2 columns</p>\n",
       "</div>"
      ],
      "text/plain": [
       "                                          features    importance\n",
       "1                          Closed with explanation  3.187394e-01\n",
       "43                               Submitted via_Web  1.979412e-01\n",
       "9                                  Sub_issue_isNan  1.368960e-01\n",
       "5                            Closed without relief  1.229239e-01\n",
       "0                                           Closed  6.162876e-02\n",
       "..                                             ...           ...\n",
       "29  Company_TransUnion Intermediate Holdings, Inc.  1.884361e-06\n",
       "33                     Company_Nationstar Mortgage  1.730486e-06\n",
       "35                            Company_U.S. Bancorp  1.044193e-06\n",
       "4                               Closed with relief  6.169964e-07\n",
       "6                                Untimely response  0.000000e+00\n",
       "\n",
       "[65 rows x 2 columns]"
      ]
     },
     "execution_count": 72,
     "metadata": {
      "tags": []
     },
     "output_type": "execute_result"
    }
   ],
   "source": [
    "feat_imp_df=pd.DataFrame({'features':x_train.columns,'importance':rf.feature_importances_})\n",
    "\n",
    "feat_imp_df.sort_values('importance',ascending=False)"
   ]
  },
  {
   "cell_type": "code",
   "execution_count": 0,
   "metadata": {
    "colab": {},
    "colab_type": "code",
    "id": "SSryla3lzNM6"
   },
   "outputs": [],
   "source": []
  }
 ],
 "metadata": {
  "accelerator": "GPU",
  "colab": {
   "name": "Consumer_Complaints.ipynb",
   "provenance": []
  },
  "kernelspec": {
   "display_name": "Python 3",
   "language": "python",
   "name": "python3"
  },
  "language_info": {
   "codemirror_mode": {
    "name": "ipython",
    "version": 3
   },
   "file_extension": ".py",
   "mimetype": "text/x-python",
   "name": "python",
   "nbconvert_exporter": "python",
   "pygments_lexer": "ipython3",
   "version": "3.7.4"
  }
 },
 "nbformat": 4,
 "nbformat_minor": 1
}
